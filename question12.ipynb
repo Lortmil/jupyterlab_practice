{
 "cells": [
  {
   "cell_type": "markdown",
   "metadata": {},
   "source": [
    "We are are currently working in the following directory:"
   ]
  },
  {
   "cell_type": "code",
   "execution_count": 1,
   "metadata": {},
   "outputs": [
    {
     "name": "stdout",
     "output_type": "stream",
     "text": [
      "/c/UBC/student-a7/jupyterlab_practice\n"
     ]
    }
   ],
   "source": [
    "!pwd"
   ]
  },
  {
   "cell_type": "markdown",
   "metadata": {},
   "source": [
    "## To time how long it takes to run a Python cell, we could use the timeit command inside a cell as is shown below:\n",
    "\n",
    "```\n",
    "import timeit\n",
    "\n",
    "# Define the code to be timed\n",
    "code_to_time = \"\"\"\n",
    "for i in range(1_000_000):\n",
    "    i**2\n",
    "\"\"\"\n",
    "\n",
    "# Measure the execution time\n",
    "execution_time = timeit.timeit(code_to_time, number=10)  # Run the code 10 times\n",
    "\n",
    "print(f\"Average execution time over 10 runs: {execution_time / 10:.2f} seconds\")\n",
    "```"
   ]
  },
  {
   "cell_type": "code",
   "execution_count": 2,
   "metadata": {},
   "outputs": [
    {
     "name": "stderr",
     "output_type": "stream",
     "text": [
      "[NbConvertApp] Converting notebook question12.ipynb to html\n",
      "[NbConvertApp] Writing 271022 bytes to question12.html\n"
     ]
    }
   ],
   "source": [
    "!jupyter nbconvert --to html --TemplateExporter.exclude_input=True question12.ipynb"
   ]
  }
 ],
 "metadata": {
  "kernelspec": {
   "display_name": "Python [conda env:assignment7]",
   "language": "python",
   "name": "conda-env-assignment7-py"
  },
  "language_info": {
   "codemirror_mode": {
    "name": "ipython",
    "version": 3
   },
   "file_extension": ".py",
   "mimetype": "text/x-python",
   "name": "python",
   "nbconvert_exporter": "python",
   "pygments_lexer": "ipython3",
   "version": "3.12.4"
  }
 },
 "nbformat": 4,
 "nbformat_minor": 4
}
