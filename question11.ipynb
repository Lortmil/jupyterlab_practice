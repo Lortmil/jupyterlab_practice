{
 "cells": [
  {
   "cell_type": "markdown",
   "metadata": {},
   "source": [
    "# Christopher Yee\n",
    "Notebook For Assignment 7"
   ]
  },
  {
   "cell_type": "code",
   "execution_count": 4,
   "metadata": {},
   "outputs": [
    {
     "name": "stdout",
     "output_type": "stream",
     "text": [
      "5.0\n"
     ]
    }
   ],
   "source": [
    "def compute_mean(values):\n",
    "    if not values:\n",
    "        return None  # Handle case where the list is empty\n",
    "    return sum(values) / len(values)\n",
    "\n",
    "# Call the function and print the result\n",
    "result = compute_mean([2, 4, 6, 8])\n",
    "print(result)"
   ]
  },
  {
   "cell_type": "markdown",
   "metadata": {},
   "source": [
    "### Explanation\n",
    "\n",
    "The code cell above defines a Python function named `compute_mean` that calculates the mean of a list of values. The function takes a list as input, computes the sum of the values, and then divides the sum by the number of values in the list to get the mean value. If the list is empty, the function returns `None`.\n",
    "\n",
    "The mean (or average) of a set of values is calculated using the following formula:\n",
    "1. **Summation Notation:**\n",
    "   $$\n",
    "   \\overline{x } = ( \\frac{x_1 + x_2 + \\cdots x_n}{n}) = \\frac{1}{n}\\Bigg(\\sum_{i=1}^{n} x_i\\Bigg)\n",
    "   $$\n",
    "\n",
    "2. **Alternative Summation Notation**\n",
    "   $$\n",
    "   \\overline{x } = \\frac{1}{n}\\Bigg(\\sum_{i=1}^{n} x_i\\Bigg) =  ( \\frac{x_1 + x_2 + \\cdots x_n}{n})\n",
    "   $$\n",
    "Where:\n",
    "- \\( n \\) is the total number of values.\n",
    "- \\( $x_n$ \\) represents each individual value in the list.\n",
    "\n",
    "The LaTeX notation is used here to clearly express the mathematical operation involved in computing the mean."
   ]
  },
  {
   "cell_type": "code",
   "execution_count": null,
   "metadata": {},
   "outputs": [],
   "source": []
  }
 ],
 "metadata": {
  "kernelspec": {
   "display_name": "Python [conda env:assignment7]",
   "language": "python",
   "name": "conda-env-assignment7-py"
  },
  "language_info": {
   "codemirror_mode": {
    "name": "ipython",
    "version": 3
   },
   "file_extension": ".py",
   "mimetype": "text/x-python",
   "name": "python",
   "nbconvert_exporter": "python",
   "pygments_lexer": "ipython3",
   "version": "3.12.4"
  }
 },
 "nbformat": 4,
 "nbformat_minor": 4
}
